{
 "cells": [
  {
   "cell_type": "code",
   "execution_count": null,
   "id": "1dbf1a01",
   "metadata": {},
   "outputs": [],
   "source": [
    "TFile \n",
    "\n",
    "\n",
    "for(int r=1; r<63;r++) for (auto ch:channels) MergeTrees(Form(\"~/SBND/DCA3/ROOT/%i.root\",r),Form(\"~/SBND/DCA3/ROOT/RUN%i_ch%i.root\",r,ch),ch) ;\n"
   ]
  }
 ],
 "metadata": {
  "kernelspec": {
   "display_name": "Python 3",
   "language": "python",
   "name": "python3"
  },
  "language_info": {
   "codemirror_mode": {
    "name": "ipython",
    "version": 3
   },
   "file_extension": ".py",
   "mimetype": "text/x-python",
   "name": "python",
   "nbconvert_exporter": "python",
   "pygments_lexer": "ipython3",
   "version": "3.8.5"
  }
 },
 "nbformat": 4,
 "nbformat_minor": 5
}
