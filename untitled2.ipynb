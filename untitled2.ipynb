{
 "cells": [
  {
   "cell_type": "code",
   "execution_count": 1,
   "metadata": {},
   "outputs": [
    {
     "name": "stdout",
     "output_type": "stream",
     "text": [
      "\n",
      "Note: if you're in the IPython notebook, mpld3.show() is not the best command\n",
      "      to use. Consider using mpld3.display(), or mpld3.enable_notebook().\n",
      "      See more information at http://mpld3.github.io/quickstart.html .\n",
      "\n",
      "You must interrupt the kernel to end this command\n",
      "\n",
      "Serving to http://127.0.0.1:8888/    [Ctrl-C to exit]\n"
     ]
    },
    {
     "name": "stderr",
     "output_type": "stream",
     "text": [
      "127.0.0.1 - - [27/Jan/2022 16:40:49] \"GET / HTTP/1.1\" 200 -\n",
      "127.0.0.1 - - [27/Jan/2022 16:40:49] \"GET /d3.js HTTP/1.1\" 200 -\n",
      "127.0.0.1 - - [27/Jan/2022 16:40:49] \"GET /mpld3.js HTTP/1.1\" 200 -\n"
     ]
    }
   ],
   "source": [
    "\"\"\"Defining a Custom Plugin\n",
    "========================\n",
    "Test the custom plugin demoed on the `Pythonic Perambulations\n",
    "<http://jakevdp.github.io/blog/2014/01/10/d3-plugins-truly-interactive/>`_\n",
    "blog.  Hover over the points to see the associated sinusoid.\n",
    "Use the toolbar buttons at the bottom-right of the plot to enable zooming\n",
    "and panning, and to reset the view.\n",
    "\"\"\"\n",
    "import matplotlib\n",
    "import matplotlib.pyplot as plt\n",
    "import numpy as np\n",
    "import mpld3\n",
    "from mpld3 import plugins, utils\n",
    "\n",
    "\n",
    "class LinkedView(plugins.PluginBase):\n",
    "    \"\"\"A simple plugin showing how multiple axes can be linked\"\"\"\n",
    "\n",
    "    JAVASCRIPT = \"\"\"\n",
    "    mpld3.register_plugin(\"linkedview\", LinkedViewPlugin);\n",
    "    LinkedViewPlugin.prototype = Object.create(mpld3.Plugin.prototype);\n",
    "    LinkedViewPlugin.prototype.constructor = LinkedViewPlugin;\n",
    "    LinkedViewPlugin.prototype.requiredProps = [\"idpts\", \"idline\", \"data\"];\n",
    "    LinkedViewPlugin.prototype.defaultProps = {}\n",
    "    function LinkedViewPlugin(fig, props){\n",
    "        mpld3.Plugin.call(this, fig, props);\n",
    "    };\n",
    "\n",
    "    LinkedViewPlugin.prototype.draw = function(){\n",
    "      var pts = mpld3.get_element(this.props.idpts);\n",
    "      var line = mpld3.get_element(this.props.idline);\n",
    "      var data = this.props.data;\n",
    "\n",
    "      function mouseover(d, i){\n",
    "        line.data = data[i];\n",
    "        line.elements().transition()\n",
    "            .attr(\"d\", line.datafunc(line.data))\n",
    "            .style(\"stroke\", this.style.fill);\n",
    "      }\n",
    "      pts.elements().on(\"mouseover\", mouseover);\n",
    "    };\n",
    "    \"\"\"\n",
    "\n",
    "    def __init__(self, points, line, linedata):\n",
    "        if isinstance(points, matplotlib.lines.Line2D):\n",
    "            suffix = \"pts\"\n",
    "        else:\n",
    "            suffix = None\n",
    "\n",
    "        self.dict_ = {\"type\": \"linkedview\",\n",
    "                      \"idpts\": utils.get_id(points, suffix),\n",
    "                      \"idline\": utils.get_id(line),\n",
    "                      \"data\": linedata}\n",
    "\n",
    "# %matplotlib\n",
    "\n",
    "fig, ax = plt.subplots(2,figsize=(20, 16))\n",
    "\n",
    "# scatter periods and amplitudes\n",
    "np.random.seed(0)\n",
    "P = 0.2 + np.random.random(size=20)\n",
    "A = np.random.random(size=20)\n",
    "x = np.linspace(0, 10, 100)\n",
    "data = np.array([[x, Ai * np.sin(x / Pi)]\n",
    "                 for (Ai, Pi) in zip(A, P)])\n",
    "points = ax[0].scatter(P, A, c=P + A,\n",
    "                       s=200, alpha=0.5)\n",
    "ax[0].set_xlabel('Period')\n",
    "ax[0].set_ylabel('Amplitude')\n",
    "\n",
    "# create the line object\n",
    "lines = ax[1].plot(x, 0 * x, lw=3)\n",
    "ax[1].set_ylim(-1, 1)\n",
    "\n",
    "ax[1].set_title(\"Hover over points to see lines\")\n",
    "\n",
    "# transpose line data and add plugin\n",
    "linedata = data.transpose(0, 2, 1).tolist()\n",
    "plugins.connect(fig, LinkedView(points, lines[0], linedata))\n",
    "\n",
    "mpld3.show()\n",
    "# mpld3.enable_notebook()\n",
    "# mpld3.display()"
   ]
  },
  {
   "cell_type": "code",
   "execution_count": null,
   "metadata": {},
   "outputs": [],
   "source": []
  }
 ],
 "metadata": {
  "interpreter": {
   "hash": "916dbcbb3f70747c44a77c7bcd40155683ae19c65e1c03b4aa3499c5328201f1"
  },
  "kernelspec": {
   "display_name": "Python 3.8.10 64-bit",
   "language": "python",
   "name": "python3"
  },
  "language_info": {
   "codemirror_mode": {
    "name": "ipython",
    "version": 3
   },
   "file_extension": ".py",
   "mimetype": "text/x-python",
   "name": "python",
   "nbconvert_exporter": "python",
   "pygments_lexer": "ipython3",
   "version": "3.8.10"
  },
  "orig_nbformat": 4
 },
 "nbformat": 4,
 "nbformat_minor": 2
}
